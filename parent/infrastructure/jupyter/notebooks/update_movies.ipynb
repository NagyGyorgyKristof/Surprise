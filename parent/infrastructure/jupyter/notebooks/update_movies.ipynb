{
 "cells": [
  {
   "cell_type": "code",
   "execution_count": 1,
   "metadata": {},
   "outputs": [],
   "source": [
    "import pandas as pd\n",
    "import numpy as np\n",
    "from py2neo import Graph\n",
    "import os\n",
    "from urllib.request import urlopen, Request\n",
    "\n",
    "import requests\n",
    "from collections import OrderedDict\n",
    "import json\n",
    "import datetime\n",
    "from io import BytesIO, StringIO\n",
    "from csv import writer \n",
    "from ast import literal_eval\n",
    "from sklearn.feature_extraction.text import TfidfVectorizer, CountVectorizer\n",
    "from sklearn.metrics.pairwise import linear_kernel, cosine_similarity"
   ]
  },
  {
   "cell_type": "code",
   "execution_count": 2,
   "metadata": {},
   "outputs": [],
   "source": [
    "graph = Graph(\"bolt://host.docker.internal:7687\", auth=(\"neo4j\", \"admin\"), bolt=False)"
   ]
  },
  {
   "cell_type": "code",
   "execution_count": 3,
   "metadata": {},
   "outputs": [],
   "source": [
    "#helper function for get new movies as Dataframe\n",
    "def get_new_movies():\n",
    "    pagination_response = requests.get('https://api.themoviedb.org/3/movie/upcoming?api_key=8e9078a24db79a8b98e327f3e62276a6&language=en-US&page=1').json()\n",
    "    num_pages = pagination_response['total_pages']\n",
    "    row_movies_list=[]\n",
    "    \n",
    "    for page in range(1, num_pages+1):\n",
    "        si= str(page)\n",
    "        response = requests.get('https://api.themoviedb.org/3/movie/now_playing?api_key=8e9078a24db79a8b98e327f3e62276a6&language=en-US&page='+si+'')\n",
    "        json_response= response.json()\n",
    "        row_movies_list.append(pd.DataFrame(json_response['results']))\n",
    "\n",
    "    return pd.concat(row_movies_list)\n"
   ]
  },
  {
   "cell_type": "code",
   "execution_count": 4,
   "metadata": {},
   "outputs": [
    {
     "data": {
      "text/plain": [
       "(160, 14)"
      ]
     },
     "execution_count": 4,
     "metadata": {},
     "output_type": "execute_result"
    }
   ],
   "source": [
    "new_movies=get_new_movies()\n",
    "new_movies.shape"
   ]
  },
  {
   "cell_type": "code",
   "execution_count": 5,
   "metadata": {},
   "outputs": [],
   "source": [
    "#factory method for get movie details as Dataframe\n",
    "def movies_factory(movieId):\n",
    "    request=Request('https://api.themoviedb.org/3/movie/'+movieId+'?api_key=8e9078a24db79a8b98e327f3e62276a6&language=en-US')\n",
    "    response = urlopen(request)\n",
    "    elevations = response.read()\n",
    "    data = json.loads(elevations)\n",
    "    return pd.json_normalize(data)\n"
   ]
  },
  {
   "cell_type": "code",
   "execution_count": 6,
   "metadata": {},
   "outputs": [],
   "source": [
    "# helper function for get keywords as raw json\n",
    "def get_keywords_by_movieId(movieId):\n",
    "    response = requests.get('https://api.themoviedb.org/3/movie/'+movieId+'/keywords?api_key=8e9078a24db79a8b98e327f3e62276a6')\n",
    "    json_response= response.json()\n",
    "    return json_response['keywords']\n",
    "    "
   ]
  },
  {
   "cell_type": "code",
   "execution_count": 7,
   "metadata": {},
   "outputs": [],
   "source": [
    "#factory method for getting movie keywords as Dataframe\n",
    "def keywords_factory(movieId):\n",
    "    data = [[movieId, get_keywords_by_movieId(str(movieId))]] \n",
    "  \n",
    "    return pd.DataFrame(data, columns = ['id', 'keywords']) "
   ]
  },
  {
   "cell_type": "code",
   "execution_count": 8,
   "metadata": {},
   "outputs": [],
   "source": [
    "# helper function for get cast and crew as raw json\n",
    "def get_cast_and_crew_by_movieId(movieId):\n",
    "    response = requests.get('https://api.themoviedb.org/3/movie/'+movieId+'/credits?api_key=8e9078a24db79a8b98e327f3e62276a6')\n",
    "    json_response= response.json()\n",
    "    return json_response['cast'], json_response['crew'];"
   ]
  },
  {
   "cell_type": "code",
   "execution_count": 9,
   "metadata": {},
   "outputs": [],
   "source": [
    "#factory method for getting movie credits as Dataframe\n",
    "def credits_factory(movieId):\n",
    "    cast,crew = get_cast_and_crew_by_movieId(str(movieId))\n",
    "    data = [[movieId,cast,crew]] \n",
    "  \n",
    "    return pd.DataFrame(data, columns = ['id', 'cast','crew']) "
   ]
  },
  {
   "cell_type": "code",
   "execution_count": 10,
   "metadata": {},
   "outputs": [],
   "source": [
    "#helper function for create the appropriate df by the factoryMethod\n",
    "def get_df_by_factoryMethod(factoryMethod):\n",
    "    df_list =[]\n",
    "\n",
    "    for movieId in new_movies['id'].tolist():\n",
    "        df = factoryMethod(str(movieId))\n",
    "        df_list.append(df)\n",
    "\n",
    "    return pd.concat(df_list)\n",
    "     "
   ]
  },
  {
   "cell_type": "code",
   "execution_count": 11,
   "metadata": {},
   "outputs": [],
   "source": [
    "md=      get_df_by_factoryMethod(movies_factory)\n",
    "credits= get_df_by_factoryMethod(credits_factory)\n",
    "keywords=get_df_by_factoryMethod(keywords_factory)\n"
   ]
  },
  {
   "cell_type": "code",
   "execution_count": 12,
   "metadata": {},
   "outputs": [],
   "source": [
    "####################################### MOVIE ETL##############################################################\n",
    "md['genres'] = md['genres'].fillna('[]').apply(str).apply(literal_eval).apply(lambda x: [i['name'] for i in x] if isinstance(x, list) else [])\n",
    "md['year'] = pd.to_datetime(md['release_date'], errors='coerce').apply(lambda x: str(x).split('-')[0] if x != np.nan else np.nan)\n",
    "md = md.drop(['adult','belongs_to_collection','budget','homepage','original_language','original_title','revenue','runtime','spoken_languages','poster_path','production_companies','release_date','production_countries','video','overview','tagline','popularity','belongs_to_collection.id','belongs_to_collection.name','belongs_to_collection.poster_path','belongs_to_collection.backdrop_path'], axis = 1)"
   ]
  },
  {
   "cell_type": "code",
   "execution_count": 13,
   "metadata": {},
   "outputs": [],
   "source": [
    "def weighted_rating(x):\n",
    "    v = x['vote_count']\n",
    "    R = x['vote_average']\n",
    "    return (v/(v+m) * R) + (m/(m+v) * C)\n",
    "\n",
    "vote_counts = md[md['vote_count'].notnull()]['vote_count'].astype('int')\n",
    "vote_averages = md[md['vote_average'].notnull()]['vote_average'].astype('int')\n",
    "C = vote_averages.mean()\n",
    "m = vote_counts.quantile(0.6)\n",
    "\n",
    "md['vote_count'] = md['vote_count'].astype('int')\n",
    "md['vote_average'] = md['vote_average'].astype('int')\n",
    "\n",
    "md['wr'] = md.apply(weighted_rating, axis=1)"
   ]
  },
  {
   "cell_type": "code",
   "execution_count": 14,
   "metadata": {},
   "outputs": [],
   "source": [
    "def get_movie_genres(movieId):\n",
    "    movie = md[md['id']==movieId]\n",
    "    tempgenres = [','.join(map(str, l)) for l in movie['genres']]\n",
    "    df = pd.DataFrame([b for a in [i.split(',') for i in tempgenres] for b in a], columns=['genres'])\n",
    "    df.insert(loc=0, column='movieId', value=movieId)\n",
    "    return df"
   ]
  },
  {
   "cell_type": "code",
   "execution_count": 15,
   "metadata": {},
   "outputs": [],
   "source": [
    "output = StringIO()\n",
    "csv_writer = writer(output)\n",
    "csv_writer.writerow(['movieId','genres'])\n",
    "\n",
    "for x in md['id'].tolist():\n",
    "    for row in get_movie_genres(x).iterrows():\n",
    "        csv_writer.writerow(row[1])\n",
    "\n",
    "output.seek(0) # we need to get back to the start of the BytesIO\n",
    "movies_genres = pd.read_csv(output)\n",
    "output.flush()\n",
    "output.close()"
   ]
  },
  {
   "cell_type": "code",
   "execution_count": 16,
   "metadata": {},
   "outputs": [],
   "source": [
    "keywords['id'] = keywords['id'].astype('int')\n",
    "credits['id'] = credits['id'].astype('int')\n",
    "md['id'] = md['id'].astype('int')"
   ]
  },
  {
   "cell_type": "code",
   "execution_count": 17,
   "metadata": {},
   "outputs": [],
   "source": [
    "md = md.merge(credits, on='id')\n",
    "md = md.merge(keywords, on='id')"
   ]
  },
  {
   "cell_type": "code",
   "execution_count": 18,
   "metadata": {},
   "outputs": [],
   "source": [
    "md['cast'] = md['cast'].apply(str).apply(literal_eval)\n",
    "md['crew'] = md['crew'].apply(str).apply(literal_eval)\n",
    "md['keywords'] = md['keywords'].apply(str).apply(literal_eval)\n",
    "md['cast_size'] = md['cast'].apply(lambda x: len(x))\n",
    "md['crew_size'] = md['crew'].apply(lambda x: len(x))"
   ]
  },
  {
   "cell_type": "code",
   "execution_count": 19,
   "metadata": {},
   "outputs": [],
   "source": [
    "def get_director(x):\n",
    "    for i in x:\n",
    "        if i['job'] == 'Director':\n",
    "            return i['name']\n",
    "    return np.nan"
   ]
  },
  {
   "cell_type": "code",
   "execution_count": 20,
   "metadata": {},
   "outputs": [],
   "source": [
    "md['director'] = md['crew'].apply(get_director)\n"
   ]
  },
  {
   "cell_type": "code",
   "execution_count": 21,
   "metadata": {},
   "outputs": [],
   "source": [
    "md['cast'] = md['cast'].apply(lambda x: [i['name'] for i in x] if isinstance(x, list) else [])\n",
    "md['cast'] = md['cast'].apply(lambda x: x[:3] if len(x) >=3 else x)\n",
    "md['keywords'] = md['keywords'].apply(lambda x: [i['name'] for i in x] if isinstance(x, list) else [])"
   ]
  },
  {
   "cell_type": "code",
   "execution_count": 22,
   "metadata": {},
   "outputs": [],
   "source": [
    "md['cast'] = md['cast'].apply(lambda x: [str.lower(i.replace(\" \", \"\")) for i in x])\n",
    "md['director'] = md['director'].astype('str').apply(lambda x: str.lower(x.replace(\" \", \"\")))\n",
    "md['director'] = md['director'].apply(lambda x: [x,x, x])"
   ]
  },
  {
   "cell_type": "code",
   "execution_count": 23,
   "metadata": {},
   "outputs": [
    {
     "name": "stderr",
     "output_type": "stream",
     "text": [
      "/opt/conda/lib/python3.7/site-packages/ipykernel_launcher.py:1: DeprecationWarning: The default dtype for empty Series will be 'object' instead of 'float64' in a future version. Specify a dtype explicitly to silence this warning.\n",
      "  \"\"\"Entry point for launching an IPython kernel.\n"
     ]
    }
   ],
   "source": [
    "s = md.apply(lambda x: pd.Series(x['keywords']),axis=1).stack().reset_index(level=1, drop=True)\n",
    "s.name = 'keyword'\n",
    "\n",
    "s = s.value_counts()\n",
    "s = s[s > 1]\n",
    "\n"
   ]
  },
  {
   "cell_type": "code",
   "execution_count": 24,
   "metadata": {},
   "outputs": [],
   "source": [
    "def filter_keywords(x):\n",
    "    words = []\n",
    "    for i in x:\n",
    "        if i in s:\n",
    "            words.append(i)\n",
    "    return words"
   ]
  },
  {
   "cell_type": "code",
   "execution_count": 25,
   "metadata": {},
   "outputs": [],
   "source": [
    "md['keywords'] = md['keywords'].apply(filter_keywords)\n",
    "md['keywords'] = md['keywords'].apply(lambda x: [str.lower(i.replace(\" \", \"\")) for i in x])"
   ]
  },
  {
   "cell_type": "code",
   "execution_count": 26,
   "metadata": {},
   "outputs": [],
   "source": [
    "# new movies after the ETL flow\n",
    "md['soup'] = md ['keywords']+md['cast'] + md['director'] + md['genres']\n",
    "md['soup'] = md['soup'].apply(lambda x: ' '.join(x))\n",
    "\n",
    "md = md.drop(['genres','vote_average','vote_count','cast','crew','keywords','cast_size','crew_size','director','backdrop_path'], axis = 1)\n"
   ]
  },
  {
   "cell_type": "code",
   "execution_count": 27,
   "metadata": {},
   "outputs": [
    {
     "data": {
      "text/html": [
       "<div>\n",
       "<style scoped>\n",
       "    .dataframe tbody tr th:only-of-type {\n",
       "        vertical-align: middle;\n",
       "    }\n",
       "\n",
       "    .dataframe tbody tr th {\n",
       "        vertical-align: top;\n",
       "    }\n",
       "\n",
       "    .dataframe thead th {\n",
       "        text-align: right;\n",
       "    }\n",
       "</style>\n",
       "<table border=\"1\" class=\"dataframe\">\n",
       "  <thead>\n",
       "    <tr style=\"text-align: right;\">\n",
       "      <th></th>\n",
       "      <th>id</th>\n",
       "      <th>imdb_id</th>\n",
       "      <th>status</th>\n",
       "      <th>title</th>\n",
       "      <th>year</th>\n",
       "      <th>wr</th>\n",
       "      <th>soup</th>\n",
       "    </tr>\n",
       "  </thead>\n",
       "  <tbody>\n",
       "    <tr>\n",
       "      <th>0</th>\n",
       "      <td>338762</td>\n",
       "      <td>tt1634106</td>\n",
       "      <td>Released</td>\n",
       "      <td>Bloodshot</td>\n",
       "      <td>2020</td>\n",
       "      <td>6.939361</td>\n",
       "      <td>superhero basedoncomic vindiesel eizagonzález ...</td>\n",
       "    </tr>\n",
       "    <tr>\n",
       "      <th>1</th>\n",
       "      <td>686245</td>\n",
       "      <td>tt10303324</td>\n",
       "      <td>Released</td>\n",
       "      <td>Survive the Night</td>\n",
       "      <td>2020</td>\n",
       "      <td>5.303425</td>\n",
       "      <td>brucewillis chadmichaelmurray lydiahull mattes...</td>\n",
       "    </tr>\n",
       "    <tr>\n",
       "      <th>2</th>\n",
       "      <td>508439</td>\n",
       "      <td>tt7146812</td>\n",
       "      <td>Released</td>\n",
       "      <td>Onward</td>\n",
       "      <td>2020</td>\n",
       "      <td>6.925113</td>\n",
       "      <td>tomholland chrispratt julialouis-dreyfus dansc...</td>\n",
       "    </tr>\n",
       "    <tr>\n",
       "      <th>3</th>\n",
       "      <td>496243</td>\n",
       "      <td>tt6751668</td>\n",
       "      <td>Released</td>\n",
       "      <td>Parasite</td>\n",
       "      <td>2019</td>\n",
       "      <td>7.971410</td>\n",
       "      <td>family songkang-ho leesun-kyun choyeo-jeong bo...</td>\n",
       "    </tr>\n",
       "    <tr>\n",
       "      <th>4</th>\n",
       "      <td>618344</td>\n",
       "      <td>tt11079148</td>\n",
       "      <td>Released</td>\n",
       "      <td>Justice League Dark: Apokolips War</td>\n",
       "      <td>2020</td>\n",
       "      <td>7.595827</td>\n",
       "      <td>superhero mattryan jerryo'connell taissafarmig...</td>\n",
       "    </tr>\n",
       "  </tbody>\n",
       "</table>\n",
       "</div>"
      ],
      "text/plain": [
       "       id     imdb_id    status                               title  year  \\\n",
       "0  338762   tt1634106  Released                           Bloodshot  2020   \n",
       "1  686245  tt10303324  Released                   Survive the Night  2020   \n",
       "2  508439   tt7146812  Released                              Onward  2020   \n",
       "3  496243   tt6751668  Released                            Parasite  2019   \n",
       "4  618344  tt11079148  Released  Justice League Dark: Apokolips War  2020   \n",
       "\n",
       "         wr                                               soup  \n",
       "0  6.939361  superhero basedoncomic vindiesel eizagonzález ...  \n",
       "1  5.303425  brucewillis chadmichaelmurray lydiahull mattes...  \n",
       "2  6.925113  tomholland chrispratt julialouis-dreyfus dansc...  \n",
       "3  7.971410  family songkang-ho leesun-kyun choyeo-jeong bo...  \n",
       "4  7.595827  superhero mattryan jerryo'connell taissafarmig...  "
      ]
     },
     "execution_count": 27,
     "metadata": {},
     "output_type": "execute_result"
    }
   ],
   "source": [
    "md.head()"
   ]
  },
  {
   "cell_type": "code",
   "execution_count": 28,
   "metadata": {},
   "outputs": [],
   "source": [
    "def execute_query(statement):\n",
    "    tx = graph.begin(autocommit=True)\n",
    "    tx.evaluate(statement)"
   ]
  },
  {
   "cell_type": "code",
   "execution_count": 29,
   "metadata": {},
   "outputs": [],
   "source": [
    "# complete the existing database with the new movies\n",
    "md.to_csv('/import/movies.csv', sep='|', header=True, index=False)\n",
    "\n",
    "movie_import_statement = \"\"\"\n",
    "//movies upload\n",
    "USING PERIODIC COMMIT\n",
    "LOAD CSV WITH HEADERS FROM \"file:///movies.csv\" AS row\n",
    "FIELDTERMINATOR '|'\n",
    "with row where row.id is not null\n",
    "MERGE (:Movies {movieId: row.id, title: row.title, rating_mean: row.wr,year: row.year,soup: row.soup});\n",
    "\"\"\"\n",
    "\n",
    "execute_query(movie_import_statement)"
   ]
  },
  {
   "cell_type": "code",
   "execution_count": 30,
   "metadata": {},
   "outputs": [],
   "source": [
    "movies_genres.to_csv('/import/movies_genres.csv', sep='|', header=True, index=False)\n",
    "\n",
    "movies_genres_import_statement = \"\"\"\n",
    "USING PERIODIC COMMIT\n",
    "LOAD CSV WITH HEADERS FROM \"file:///movies_genres.csv\" AS row\n",
    "FIELDTERMINATOR '|'\n",
    "MATCH (movie:Movies {movieId: row.movieId})\n",
    "MATCH (genres:Genres {genres: row.genres})\n",
    "MERGE (movie)-[:IN_GENRE]->(genres);\n",
    "\"\"\"\n",
    "\n",
    "execute_query(movies_genres_import_statement)"
   ]
  },
  {
   "cell_type": "code",
   "execution_count": 31,
   "metadata": {},
   "outputs": [],
   "source": [
    "#read up the completed database as DataFrame\n",
    "md= graph.run(\"MATCH (n:Movies) RETURN n.movieId as id ,n.soup as soup\").to_data_frame()"
   ]
  },
  {
   "cell_type": "code",
   "execution_count": 32,
   "metadata": {},
   "outputs": [],
   "source": [
    "tf = CountVectorizer(analyzer='word',ngram_range=(1, 2),min_df=0, stop_words='english')\n",
    "count_matrix = tf.fit_transform(md['soup'])\n",
    "cosine_sim = cosine_similarity(count_matrix, count_matrix)"
   ]
  },
  {
   "cell_type": "code",
   "execution_count": 33,
   "metadata": {},
   "outputs": [],
   "source": [
    "md.set_index(md['id'],inplace=True)\n",
    "cols = md.index.values\n",
    "inx = md.index\n",
    "movies_sim = pd.DataFrame(cosine_sim, columns=cols, index=inx)"
   ]
  },
  {
   "cell_type": "code",
   "execution_count": 34,
   "metadata": {},
   "outputs": [],
   "source": [
    "def get_similar(movieId):\n",
    "    df = movies_sim.loc[movies_sim.index == movieId].reset_index(). \\\n",
    "            melt(id_vars='id', var_name='sim_moveId', value_name='relevance'). \\\n",
    "            sort_values('relevance', axis=0, ascending=False)[1:6]\n",
    "    return df"
   ]
  },
  {
   "cell_type": "code",
   "execution_count": 35,
   "metadata": {},
   "outputs": [],
   "source": [
    "output = StringIO()\n",
    "csv_writer = writer(output)\n",
    "\n",
    "csv_writer.writerow(['id','sim_movieId','relevance'])\n",
    "for x in movies_sim.index.tolist():\n",
    "    for row in get_similar(x).iterrows():\n",
    "        csv_writer.writerow(row[1])\n",
    "\n",
    "output.seek(0) # we need to get back to the start of the BytesIO\n",
    "movies_similarity = pd.read_csv(output)\n",
    "output.flush()\n",
    "output.close()\n",
    "\n"
   ]
  },
  {
   "cell_type": "code",
   "execution_count": 36,
   "metadata": {},
   "outputs": [],
   "source": [
    "movies_similarity.to_csv('/import/movies_similarity.csv', sep='|', header=True, index=False)\n",
    "\n",
    "movies_similarity_statement = \"\"\"\n",
    "USING PERIODIC COMMIT\n",
    "LOAD CSV WITH HEADERS FROM \"file:///movies_similarity.csv\" AS row\n",
    "FIELDTERMINATOR '|'\n",
    "MATCH (movie1:Movies {movieId: row.id})\n",
    "MATCH (movie2:Movies {movieId: row.sim_movieId})\n",
    "MERGE (movie1)-[:MOVIE_SIMILAR {relevance: row.relevance}]->(movie2);\n",
    "\"\"\"\n",
    "\n",
    "execute_query(movies_similarity_statement)"
   ]
  },
  {
   "cell_type": "code",
   "execution_count": null,
   "metadata": {},
   "outputs": [],
   "source": []
  }
 ],
 "metadata": {
  "kernelspec": {
   "display_name": "Python 3",
   "language": "python",
   "name": "python3"
  },
  "language_info": {
   "codemirror_mode": {
    "name": "ipython",
    "version": 3
   },
   "file_extension": ".py",
   "mimetype": "text/x-python",
   "name": "python",
   "nbconvert_exporter": "python",
   "pygments_lexer": "ipython3",
   "version": "3.7.6"
  }
 },
 "nbformat": 4,
 "nbformat_minor": 1
}
